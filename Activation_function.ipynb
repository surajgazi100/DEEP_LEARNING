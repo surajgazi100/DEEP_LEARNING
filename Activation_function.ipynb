{
  "nbformat": 4,
  "nbformat_minor": 0,
  "metadata": {
    "colab": {
      "name": "Untitled41.ipynb",
      "provenance": [],
      "authorship_tag": "ABX9TyNn/qMpwUkOXclnIapuHu5V",
      "include_colab_link": true
    },
    "kernelspec": {
      "name": "python3",
      "display_name": "Python 3"
    }
  },
  "cells": [
    {
      "cell_type": "markdown",
      "metadata": {
        "id": "view-in-github",
        "colab_type": "text"
      },
      "source": [
        "<a href=\"https://colab.research.google.com/github/surajgazi100/DEEP_LEARNING/blob/main/Activation_function.ipynb\" target=\"_parent\"><img src=\"https://colab.research.google.com/assets/colab-badge.svg\" alt=\"Open In Colab\"/></a>"
      ]
    },
    {
      "cell_type": "code",
      "metadata": {
        "id": "ojIvrrOlP4h5"
      },
      "source": [
        "import numpy as np\n",
        "#sigmoid\n",
        "def sigmoid(z):\n",
        "  return 1.0/(1.0 + np.exp(-z))"
      ],
      "execution_count": 1,
      "outputs": []
    },
    {
      "cell_type": "code",
      "metadata": {
        "id": "pcjMIi1jQOLh",
        "outputId": "b711a933-525c-4559-8393-1b8a39e72e0f",
        "colab": {
          "base_uri": "https://localhost:8080/"
        }
      },
      "source": [
        "sigmoid(-10)"
      ],
      "execution_count": 2,
      "outputs": [
        {
          "output_type": "execute_result",
          "data": {
            "text/plain": [
              "4.5397868702434395e-05"
            ]
          },
          "metadata": {
            "tags": []
          },
          "execution_count": 2
        }
      ]
    },
    {
      "cell_type": "code",
      "metadata": {
        "id": "BrAUJejXQV4S"
      },
      "source": [
        "def sigmoid_prime(z):\n",
        "  s=1.0/(1.0 + np.exp(-z))\n",
        "  return s*(1-s)"
      ],
      "execution_count": 3,
      "outputs": []
    },
    {
      "cell_type": "code",
      "metadata": {
        "id": "e5rWQUYGQqlD",
        "outputId": "ba593211-ed89-476b-92cb-22f8802ca85f",
        "colab": {
          "base_uri": "https://localhost:8080/"
        }
      },
      "source": [
        "sigmoid_prime(-10)"
      ],
      "execution_count": 6,
      "outputs": [
        {
          "output_type": "execute_result",
          "data": {
            "text/plain": [
              "4.5395807735951673e-05"
            ]
          },
          "metadata": {
            "tags": []
          },
          "execution_count": 6
        }
      ]
    },
    {
      "cell_type": "markdown",
      "metadata": {
        "id": "acrlPKU1Q7dj"
      },
      "source": [
        "tan"
      ]
    },
    {
      "cell_type": "code",
      "metadata": {
        "id": "ugWPe0VMQ8aT"
      },
      "source": [
        "def tanh(z):\n",
        "  return np.tan(z)"
      ],
      "execution_count": 8,
      "outputs": []
    },
    {
      "cell_type": "code",
      "metadata": {
        "id": "Gra3E91wRUTx",
        "outputId": "ccf84f2f-a73a-4df5-b474-35f1a902caa6",
        "colab": {
          "base_uri": "https://localhost:8080/"
        }
      },
      "source": [
        "tanh(-10)"
      ],
      "execution_count": 9,
      "outputs": [
        {
          "output_type": "execute_result",
          "data": {
            "text/plain": [
              "-0.6483608274590866"
            ]
          },
          "metadata": {
            "tags": []
          },
          "execution_count": 9
        }
      ]
    },
    {
      "cell_type": "code",
      "metadata": {
        "id": "D5yBwamtRX9Z"
      },
      "source": [
        "def tanh_prime(z):\n",
        "  return(1-(np.tanh(z)**2))"
      ],
      "execution_count": 10,
      "outputs": []
    },
    {
      "cell_type": "code",
      "metadata": {
        "id": "vaEGnx4ERqx4",
        "outputId": "589f8dcf-afc7-4492-f7d4-463138c9ea25",
        "colab": {
          "base_uri": "https://localhost:8080/"
        }
      },
      "source": [
        "tanh_prime(-10)"
      ],
      "execution_count": 11,
      "outputs": [
        {
          "output_type": "execute_result",
          "data": {
            "text/plain": [
              "8.244614546626394e-09"
            ]
          },
          "metadata": {
            "tags": []
          },
          "execution_count": 11
        }
      ]
    },
    {
      "cell_type": "code",
      "metadata": {
        "id": "6HxmtbKYRvDd"
      },
      "source": [
        "def relu(z):\n",
        "  return np.maximum(0,z)"
      ],
      "execution_count": 12,
      "outputs": []
    },
    {
      "cell_type": "code",
      "metadata": {
        "id": "e1g27SQ6R-rT",
        "outputId": "37d341b6-e145-4fd7-cc97-a231b0e95ea9",
        "colab": {
          "base_uri": "https://localhost:8080/"
        }
      },
      "source": [
        "relu(10)"
      ],
      "execution_count": 16,
      "outputs": [
        {
          "output_type": "execute_result",
          "data": {
            "text/plain": [
              "10"
            ]
          },
          "metadata": {
            "tags": []
          },
          "execution_count": 16
        }
      ]
    },
    {
      "cell_type": "code",
      "metadata": {
        "id": "kKk9EgaFSL0d"
      },
      "source": [
        "def relu_prime(z):\n",
        "  if z==0 or z<0:\n",
        "    z=0\n",
        "  else:\n",
        "    z=1\n",
        "  return z"
      ],
      "execution_count": 17,
      "outputs": []
    },
    {
      "cell_type": "code",
      "metadata": {
        "id": "gM5WOyv9SgEv",
        "outputId": "5821c822-26c9-435d-f3e9-3b870d062a2b",
        "colab": {
          "base_uri": "https://localhost:8080/"
        }
      },
      "source": [
        "relu_prime(-10)"
      ],
      "execution_count": 18,
      "outputs": [
        {
          "output_type": "execute_result",
          "data": {
            "text/plain": [
              "0"
            ]
          },
          "metadata": {
            "tags": []
          },
          "execution_count": 18
        }
      ]
    }
  ]
}